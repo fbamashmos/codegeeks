{
 "cells": [
  {
   "cell_type": "markdown",
   "metadata": {},
   "source": [
    "# <span style=\"color:#0b486b\">SIT 112 - Data Science Concepts - Assignment 2</span>\n",
    "\n",
    "---\n",
    "Lecturer: Truyen Tran | truyen.tran@deakin.edu.au<br />\n",
    "\n",
    "School of Information Technology, <br />\n",
    "Deakin University, VIC 3215, Australia.\n",
    "\n",
    "### <span style=\"color:#0b486b\">Due: 5pm, 11th May 2018 </span>\n",
    "---"
   ]
  },
  {
   "cell_type": "markdown",
   "metadata": {},
   "source": [
    "## <span style=\"color:#0b486b\">Instructions</span>\n",
    "\n",
    "This notebook has been prepared for you to complete Assignment 2. Some sections have been partially completed  to help you get started. **The total marks for this notebook is 200**.\n",
    "\n",
    "* Before you start, read the entire notebook carefully to understand what you need to do. You should also refer to the main instructions in *Assignment2_instructions.pdf*  to know what else you need to complete for this assignment as well submission instruction. <br><br>\n",
    "\n",
    "* For each cell marked with **#YOU ARE REQUIRED TO INSERT YOUR CODES IN THIS CELL**, there will be places where you **must** supply your own codes when instructed. <br><br>\n",
    "\n",
    "\n",
    "### Submission\n",
    "\n",
    "You are required to submit **five** files: <br><br>\n",
    "\n",
    "* The source of your solution notebook: **[groupID]_assignment2_solution.ipynb**\n",
    "* An exported version of your output: **[groupID]_assignment2_output.html**  \n",
    "* Three json data files storing tweets collected for three keywords, named **[groupID]_w1.json**, **[groupID]_w2.json**, **[groupID]_w3.json** where **w1, w2, w3** are the three keywords you selected.\n",
    "    \n",
    "\n",
    "\n",
    "As you go through this notebook:\n",
    "\n",
    "* markdown cells marked with **Note** mean description sections.\n",
    "* markdown cells marked with **Instruction** mean the instructions given to you to complete the designated section."
   ]
  },
  {
   "cell_type": "markdown",
   "metadata": {},
   "source": [
    "## <span style=\"color:#0b486b\">Part 1: Crawling and Storing Tweet Data for Australia</span>\n",
    "\n",
    "\n",
    "The first part of the assignment examines your skills and knowledge to query tweets and store them in json files. For **each** selected keyword, your tasks are:\n",
    "\n",
    "* Crawl all tweets contain this keyword written in English and geocoded within Australia.\n",
    "* Store the tweets collected into json files.\n",
    "\n",
    "***Follow the instructions below to complete your task***."
   ]
  },
  {
   "cell_type": "markdown",
   "metadata": {},
   "source": [
    "**Note**: The following packages will be required for this assignment. If you need to import more packages, you might append them to the end of the following cell."
   ]
  },
  {
   "cell_type": "code",
   "execution_count": 1,
   "metadata": {},
   "outputs": [],
   "source": [
    "'''\n",
    "Import packages needed for processing\n",
    "'''\n",
    "import re\n",
    "import json\n",
    "import numpy as np\n",
    "from collections import Counter\n",
    "from TwitterAPI import TwitterAPI # in case you need to install this package, see practical 6\n",
    "from sklearn.cluster import KMeans\n",
    "\n",
    "import requests\n",
    "\n",
    "# disabling urllib3 warnings\n",
    "requests.packages.urllib3.disable_warnings()\n",
    "\n",
    "import matplotlib.pyplot as plt\n",
    "%matplotlib inline\n",
    "\n",
    "'''\n",
    "If you need add any additional packages, then add them below\n",
    "'''\n",
    "import json"
   ]
  },
  {
   "cell_type": "markdown",
   "metadata": {},
   "source": [
    "**Instruction 1.1**. Enter your selected keywords to the variable **keywords** below.\n",
    "\n",
    "[**Total mark: 3**]"
   ]
  },
  {
   "cell_type": "code",
   "execution_count": 2,
   "metadata": {},
   "outputs": [],
   "source": [
    "# YOU ARE REQUIRED TO INSERT YOUR CODES IN THIS CELL\n",
    "'''\n",
    "Enter the list of three keywords you selected to the variables keywords below\n",
    "e.g. keywords = [\"game\",\"bike\",\"fiction\"]\n",
    "'''\n",
    "\n",
    "keywords = [\"game\",\"bike\",\"fiction\"] # INSERT YOUR CODE "
   ]
  },
  {
   "cell_type": "markdown",
   "metadata": {
    "collapsed": true
   },
   "source": [
    "**Instruction 1.2**. Before you can perform a query to Twitter API, you need to supply authentication information. Practical sessions 6 and 7 show you how to obtain this information. **Your task is to supply the authentication information in the cell below**.\n",
    "\n",
    "**Note**: You might decide to regenerate this authentication from the pracs if you would like too. <span style=\"color:red\">After the assignment has been marked, you are strongly recommended to regenerate this authentication information from your account to maintain your privacy.</span> \n",
    "\n",
    "\n",
    "[**Total mark: 5**]"
   ]
  },
  {
   "cell_type": "code",
   "execution_count": 3,
   "metadata": {},
   "outputs": [],
   "source": [
    "# YOU ARE REQUIRED TO INSERT YOUR CODES IN THIS CELL\n",
    "\n",
    "# Twitter API credentials \n",
    "CONSUMER_KEY =  \"ihqmqR1jJQ1g0I5IKcEKrbHr1\"#ENTER YOUR CONSUMER_KEY\n",
    "CONSUMER_SECRET = \"oBYqs6yMNlbPC7acVD80W9HQQTtw27oDa7CRzzJbI5sWMKQ77s\"#ENTER YOUR CONSUMER_SECRET\n",
    "OAUTH_TOKEN = \"939424711028740097-KgPDxQn02juU9t9XsmdAPzzvdKVqsLL\" #ENTER YOUR OAUTH_TOKEN\n",
    "OAUTH_TOKEN_SECRET = \"b3whAx9mywsj9FpFWMSzAT5T5o4U5YUAMSU0PNBRZRA8B\"  #ENTER YOUR OAUTH_TOKEN_SECRET\n",
    "\n",
    "# Authonticating with your application credentials\n",
    "api = TwitterAPI(CONSUMER_KEY,\n",
    "                 CONSUMER_SECRET,\n",
    "                 OAUTH_TOKEN,\n",
    "                 OAUTH_TOKEN_SECRET)\n",
    "                 # INSERT YOUR CODE HERE\n",
    "                 "
   ]
  },
  {
   "cell_type": "markdown",
   "metadata": {},
   "source": [
    "**Note**: As you have learned from the pracical sessions, to perform a query from Twitter API for a particular geo-coded location you need a center point and a radius. The center point is specified by its (latitude,longitute) pair. **The information below has been given to you to perform the query in the subsequent tasks**. **Do not** modify these variables."
   ]
  },
  {
   "cell_type": "code",
   "execution_count": 6,
   "metadata": {},
   "outputs": [],
   "source": [
    "# geo coordinations of the desired place\n",
    "AUS_LAT = -24.396176\n",
    "AUS_LONG = 133.247614\n",
    "AUS_RADIUS = 1500"
   ]
  },
  {
   "cell_type": "markdown",
   "metadata": {},
   "source": [
    "**Instruction 1.3**. For each keyword, you are required to crawl at least **500** tweets using the Twitter API. However, as you have learned from the practical sessions, each query will return a maximum of only **100** tweets. Therefore, subsequent query **must** use the maximum Tweet ID from the previous batch to crawl the next lot.\n",
    "\n",
    "The following function, called ***retrieve_tweets()***, has been **partially** implemented to automatically download tweets until it reaches the maximum number of tweets needed. \n",
    "\n",
    "For example, a function call\n",
    "```\n",
    "retrieve_tweets(api,'car',50,500)\n",
    "```\n",
    "will attempt to crawl a total of at least 500 tweets that contains the word 'car'. Within each single query, it will attempt to obtain 50 tweets. For this assignment, by default we will query within Australian region specified by the latitute, longitude and radius specified before.\n",
    "\n",
    "**Your task is to walk through this function and enter your own codes where instructed to complete the function**.\n",
    "\n",
    "[**Total mark: 14**]"
   ]
  },
  {
   "cell_type": "code",
   "execution_count": 515,
   "metadata": {},
   "outputs": [],
   "source": [
    "# YOU ARE REQUIRED TO INSERT YOUR CODES IN THIS CELL\n",
    "'''\n",
    "You will be required to insert your own codes to complete this function. \n",
    "Walk through this function and enter your own codes where instructed.\n",
    "'''\n",
    "def retrieve_tweets(api, keyword, batch_count, total_count):\n",
    "    \"\"\"\n",
    "    collects tweets using the Twitter search API\n",
    "    \n",
    "    api:         Twitter API instance\n",
    "    keyword:     search keyword\n",
    "    batch_count: maximum number of tweets to collect per each request\n",
    "    total_count: maximum number of tweets in total\n",
    "    \"\"\"\n",
    "    \n",
    "    # the collection of tweets to be returned\n",
    "    tweets = []\n",
    "    \n",
    "    # the number of tweets within a single query\n",
    "    batch_count = str(batch_count)\n",
    "    \n",
    "    '''\n",
    "    You are required to insert your own code where instructed to perform the first query to Twitter API.\n",
    "    Hint: revise the practical session on Twitter API on how to perform query to Twitter API.\n",
    "    '''\n",
    "    # per the first query, to obtain max_id_str which will be used later to query sub\n",
    "    resp = api.request('search/tweets', {'q': keyword,\n",
    "                                         'count': '100',#INSERT YOUR CODE\n",
    "                                         'lang':'en',\n",
    "                                         'result_type':'recent',\n",
    "                                         'geocode':'{},{},{}mi'.format(AUS_LAT, AUS_LONG,AUS_RADIUS)\n",
    "                                        }\n",
    "                      )\n",
    "    \n",
    "    # store the tweets in a list\n",
    "    tweets += resp.json()['statuses']\n",
    "    \n",
    "    # find the max_id_str for the next batch\n",
    "    ids = [tweet['id'] for tweet in tweets]\n",
    "    max_id_str = str(min(ids))\n",
    "\n",
    "    # loop until as many tweets as total_count is collected\n",
    "    number_of_tweets = len(tweets)\n",
    "    while number_of_tweets < total_count:\n",
    "        print(\"{} tweets are collected for keyword {}. Last tweet created at {}\".format(number_of_tweets, \n",
    "                                                                                        keyword, \n",
    "                                                                                        tweets[number_of_tweets-1]['created_at']))\n",
    "        resp = api.request('search/tweets', {'q': keyword,\n",
    "                                             'count':'100',\n",
    "                                             'lang':'en',\n",
    "                                             'result_type':'recent',#INSERT YOUR CODE\n",
    "                                             'max_id':'id' , #INSERT YOUR CODE\n",
    "                                             'geocode':'{},{},{}mi'.format(AUS_LAT, AUS_LONG,AUS_RADIUS)\n",
    "                                             #INSERT YOUR CODE\n",
    "                                            }\n",
    "                          )\n",
    "\n",
    "        tweets += resp.json()['statuses']\n",
    "        ids = [tweet['id'] for tweet in tweets]\n",
    "        max_id_str = str(min(ids))\n",
    "        number_of_tweets = len(tweets)\n",
    "        \n",
    "    print(\"{} tweets are collected for keyword {}. Last tweet created at {}\".format(number_of_tweets, \n",
    "                                                                                    keyword, \n",
    "                                                                                    tweets[number_of_tweets-1]['created_at']))\n",
    "    return tweets"
   ]
  },
  {
   "cell_type": "markdown",
   "metadata": {},
   "source": [
    "**Instruction 1.4**. After having defined the ***retrieve_tweets()*** function above, you are now ready to use this function to collect your tweets. Your task is to write the code to perform three function calls, each corresponds to one keyword. And, you are required to collect at least **500** tweets for each key word.\n",
    "\n",
    "[**Total mark: 9**]"
   ]
  },
  {
   "cell_type": "code",
   "execution_count": 516,
   "metadata": {},
   "outputs": [
    {
     "name": "stdout",
     "output_type": "stream",
     "text": [
      "100 tweets are collected for keyword game. Last tweet created at Wed May 09 04:00:19 +0000 2018\n",
      "200 tweets are collected for keyword game. Last tweet created at Wed May 09 04:00:23 +0000 2018\n",
      "300 tweets are collected for keyword game. Last tweet created at Wed May 09 04:00:23 +0000 2018\n",
      "400 tweets are collected for keyword game. Last tweet created at Wed May 09 04:00:23 +0000 2018\n",
      "500 tweets are collected for keyword game. Last tweet created at Wed May 09 04:00:23 +0000 2018\n",
      "100 tweets are collected for keyword bike. Last tweet created at Tue May 08 21:55:04 +0000 2018\n",
      "200 tweets are collected for keyword bike. Last tweet created at Tue May 08 21:55:04 +0000 2018\n",
      "300 tweets are collected for keyword bike. Last tweet created at Tue May 08 21:55:04 +0000 2018\n",
      "400 tweets are collected for keyword bike. Last tweet created at Tue May 08 21:55:04 +0000 2018\n",
      "500 tweets are collected for keyword bike. Last tweet created at Tue May 08 21:55:04 +0000 2018\n",
      "100 tweets are collected for keyword fiction. Last tweet created at Tue May 08 21:08:31 +0000 2018\n",
      "200 tweets are collected for keyword fiction. Last tweet created at Tue May 08 21:08:31 +0000 2018\n",
      "300 tweets are collected for keyword fiction. Last tweet created at Tue May 08 21:08:31 +0000 2018\n",
      "400 tweets are collected for keyword fiction. Last tweet created at Tue May 08 21:08:31 +0000 2018\n",
      "500 tweets are collected for keyword fiction. Last tweet created at Tue May 08 21:08:31 +0000 2018\n"
     ]
    }
   ],
   "source": [
    "# YOU ARE REQUIRED TO INSERT YOUR CODES IN THIS CELL\n",
    "'''\n",
    "Your task is to write the code to perform three function calls, each corresponds to one keyword. \n",
    "And, you are required to collect at least 500 tweets for each key word.\n",
    "'''\n",
    "\n",
    "# Collecting the tweets for three assigned keywords, \n",
    "# Your function call should look like this:  retrieve_tweets(api,'keyword',single_count,total_count)\n",
    "\n",
    "k1_tweets = retrieve_tweets(api, 'game', 50, 500)               #INSERT YOUR CODE HERE\n",
    "k2_tweets = retrieve_tweets(api, 'bike', 50, 500)#INSERT YOUR CODE HERE\n",
    "k3_tweets = retrieve_tweets(api, 'fiction', 50, 500)#INSERT YOUR CODE HERE\n",
    "\n",
    "# PLEASE NOTE THAT IF YOU RUN THIS CELL, IT MIGHT TAKE A WHILE TO DOWNLOAD ALL THE TWEETS REQUIRED.\n",
    "# MAKE SURE THAT YOU WAIT UNTILL THE CELL FINISHES RUNNING."
   ]
  },
  {
   "cell_type": "markdown",
   "metadata": {},
   "source": [
    "**Instruction 1.5**. To verify the downloading process, write your code to print out the number of tweets which has been collected for each keyword.\n",
    "\n",
    "[**Total mark: 3**]"
   ]
  },
  {
   "cell_type": "code",
   "execution_count": 517,
   "metadata": {
    "scrolled": true
   },
   "outputs": [
    {
     "name": "stdout",
     "output_type": "stream",
     "text": [
      "500\n",
      "500\n",
      "500\n"
     ]
    }
   ],
   "source": [
    "# YOU ARE REQUIRED TO INSERT YOUR CODES IN THIS CELL\n",
    "'''\n",
    "Write your code to print the number of tweets have been collected for each keyword\n",
    "'''\n",
    "# INSERT OUR CODE HERE\n",
    "print(len(k1_tweets))\n",
    "print(len(k2_tweets))\n",
    "print(len(k3_tweets))"
   ]
  },
  {
   "cell_type": "markdown",
   "metadata": {},
   "source": [
    "**Note:** Each tweet is stored in a dictionary where its keywords are fields in the tweet and values are the information of the fields. The cell below print the type of a tweet."
   ]
  },
  {
   "cell_type": "code",
   "execution_count": 518,
   "metadata": {},
   "outputs": [
    {
     "name": "stdout",
     "output_type": "stream",
     "text": [
      "<class 'dict'>\n"
     ]
    }
   ],
   "source": [
    "# Data type of tweets\n",
    "print(type(k1_tweets[0]))"
   ]
  },
  {
   "cell_type": "markdown",
   "metadata": {},
   "source": [
    "**Instruction 1.6**.  To examine what the tweets look like, in the cell below write your code to print out all fields of the first tweet in `k1_tweets` and print out the text of the first tweet collected for each keyword.\n",
    "\n",
    "[**Total mark: 6**]"
   ]
  },
  {
   "cell_type": "code",
   "execution_count": 519,
   "metadata": {},
   "outputs": [
    {
     "name": "stdout",
     "output_type": "stream",
     "text": [
      "dict_keys(['created_at', 'id', 'id_str', 'text', 'truncated', 'entities', 'metadata', 'source', 'in_reply_to_status_id', 'in_reply_to_status_id_str', 'in_reply_to_user_id', 'in_reply_to_user_id_str', 'in_reply_to_screen_name', 'user', 'geo', 'coordinates', 'place', 'contributors', 'retweeted_status', 'is_quote_status', 'retweet_count', 'favorite_count', 'favorited', 'retweeted', 'lang'])\n",
      "\n",
      "The text of the first tweet for \"game\":\n",
      "\n",
      "RT @TheoHarrison9: Oh please, now slimy shorten is hinting the High Court moved the goal posts.\n",
      "Trouble is,even if they did, Ludlum startin…\n",
      "\n",
      "The text of the first tweet for \"bike\":\n",
      "\n",
      "@Cameron_Kirby plenty of share ones in Melbourne to practice on. It's like riding a bike. An acoustic motorbike.\n",
      "\n",
      "The text of the first tweet for \"fiction\":\n",
      "\n",
      "@ElliotLangerman A good point, although I found non-fiction books were slightly better than fiction as audio books.\n"
     ]
    }
   ],
   "source": [
    "# YOU ARE REQUIRED TO INSERT YOUR CODES IN THIS CELL\n",
    "'''\n",
    "Write your code to print out all fields of the first tweet\n",
    "Hint: You might want to use method keys() of the dictionary\n",
    "'''# INSERT YOUR CODE HERE\n",
    "\n",
    "print(k1_tweets[0].keys())\n",
    "'''\n",
    "Write your code to print out the text of the first  tweet collected for each keyword.\n",
    "'''\n",
    "\n",
    "print(\"\\nThe text of the first tweet for \\\"{}\\\":\\n\".format(keywords[0]))\n",
    "print(k1_tweets[0]['text'])# INSERT YOUR CODE HERE\n",
    "\n",
    "print('\\nThe text of the first tweet for \\\"{}\\\":\\n'.format(keywords[1]))\n",
    "print(k2_tweets[0]['text'])\n",
    "          # INSERT YOUR CODE HERE\n",
    "\n",
    "print('\\nThe text of the first tweet for \\\"{}\\\":\\n'.format(keywords[2]))\n",
    "print(k3_tweets[0]['text'])# INSERT YOUR CODE HER3"
   ]
  },
  {
   "cell_type": "markdown",
   "metadata": {},
   "source": [
    "**Note**. When collecting data from the Internet, such as Twitter, it is important that we store the data collected in an appropriate format for later data analysis task. We have learned that json is a poplular lightweight data format that can be handy to store unstructured data. For example, with NoSQL we can directly query these files in a 'scaling out' fashion. These technologies are representative features of Big Data Analytics.\n",
    "\n",
    "The following function has been designed for you to save an object which is a list of dictionaries (such as k1_tweets variable) to a json file. **You will need this function for your next task**."
   ]
  },
  {
   "cell_type": "code",
   "execution_count": 520,
   "metadata": {},
   "outputs": [],
   "source": [
    "def save_to_json(obj, filename):\n",
    "    \"\"\"\n",
    "    saves a list of dictionaries into a json file\n",
    "    \n",
    "    obj: list of dictionaries\n",
    "    filename: filename\n",
    "    \"\"\"\n",
    "    with open(filename, 'w') as fp:\n",
    "        json.dump(obj, fp, indent=4, sort_keys=True)   "
   ]
  },
  {
   "cell_type": "markdown",
   "metadata": {},
   "source": [
    "**Instruction 1.7**. Use the function ***save_to_json()*** defined above, for each collection of tweets you have crawled for each keyword, save them into a file named **w.json** where **w** is the keyword.\n",
    "\n",
    "For example, if your keywords are 'w1', 'w2' and 'w3', then your code must generate three file w1.json, w2.json and w3.json. **Important: you must submit these files together with your notebook solution**.\n",
    "\n",
    "[**Total mark: 9**]"
   ]
  },
  {
   "cell_type": "code",
   "execution_count": 521,
   "metadata": {},
   "outputs": [],
   "source": [
    "# YOU ARE REQUIRED TO INSERT YOUR CODES IN THIS CELL\n",
    "'''\n",
    "Use the save_to_json() function defined above, for the collection of tweets \n",
    "you have crawled for each keyword, save them into a file named w.json where w is the keyword.\n",
    "'''\n",
    "# saving the tweets in three json files, one for each keyword\n",
    "#INSERT YOUR CODE HERE\n",
    "save_to_json(k1_tweets, 'game.json')\n",
    "save_to_json(k2_tweets, 'bike.json')\n",
    "save_to_json(k3_tweets, 'fiction.json')\n",
    "\n"
   ]
  },
  {
   "cell_type": "markdown",
   "metadata": {},
   "source": [
    "###                                     END OF PART 1\n",
    "----"
   ]
  },
  {
   "cell_type": "markdown",
   "metadata": {},
   "source": [
    "## Part 2: Data Analytics\n",
    "\n",
    "The second part of this assignment will examine your skills and knowlege in data manipulation and analysis tasks. It includes three main components:\n",
    "\n",
    "**Part 2A**. For each keyword, you will be required to load the tweets from your saved json files (from Part 1) and filter out all tweets that are too short.\n",
    "\n",
    "**Part 2B**. Using your knowledge from practical session 5 to 7 to construct the term-by-document matrix for the tweets and perform visualisation tasks to understand them.\n",
    "\n",
    "**Part 2C**. Applying the Kmeans clustering algorithm to cluster your tweets and report the clustering results.\n",
    "\n",
    "***Follow the instructions below to complete your assigned tasks***."
   ]
  },
  {
   "cell_type": "markdown",
   "metadata": {},
   "source": [
    "### Part 2A: Load and Filter Tweets from Files"
   ]
  },
  {
   "cell_type": "markdown",
   "metadata": {},
   "source": [
    "**Instruction 2.1**. The following function, named ***read_json_file()***, has been partially implemented to load data from a json file. This function will be used later on to load three json files you have saved from Part 1. Your task is to insert your own code where instructed to complete this function.\n",
    "\n",
    "[**Total mark: 3**]"
   ]
  },
  {
   "cell_type": "code",
   "execution_count": 522,
   "metadata": {},
   "outputs": [],
   "source": [
    "# YOU ARE REQUIRED TO INSERT YOUR CODES IN THIS CELL\n",
    "'''\n",
    "Insert your own code where instructed to complete this function\n",
    "'''\n",
    "def read_json_file(filename):\n",
    "    \"\"\"\n",
    "    reads from a json file and saves the result in a list named data\n",
    "    \"\"\"\n",
    "    with open(filename, 'r') as fp:\n",
    "        d = json.load(fp)\n",
    "        data = d\n",
    "        # INSERT THE MISSING PIECE OF CODE HERE\n",
    "        return data     "
   ]
  },
  {
   "cell_type": "markdown",
   "metadata": {},
   "source": [
    "**Instruction 2.2**. Now use the ***read_json_file()*** function defined above, write three function calls to load data from three json files you have saved from Part 1.\n",
    "\n",
    "[**Total mark: 9**]"
   ]
  },
  {
   "cell_type": "code",
   "execution_count": 523,
   "metadata": {},
   "outputs": [],
   "source": [
    "# YOU ARE REQUIRED TO INSERT YOUR CODES IN THIS CELL\n",
    "'''\n",
    "Write three function calls to load data from three json files you have saved from Part 1.\n",
    "'''\n",
    "\n",
    "k1_tweets  = read_json_file('game.json')# INSERT YOUR CODE HERE\n",
    "k2_tweets = read_json_file('bike.json')# INSERT YOUR CODE HERE\n",
    "k3_tweets = read_json_file('fiction.json')# INSERT YOUR CODE HERE"
   ]
  },
  {
   "cell_type": "markdown",
   "metadata": {},
   "source": [
    "**Instruction 2.3**. To examine the number of tweets loaded from your data files, write your code to print out the number of tweets containes in three variables: ***k1_tweets, k2_tweets*** and ***k3_tweets***.\n",
    "\n",
    "[**Total mark: 3**]"
   ]
  },
  {
   "cell_type": "code",
   "execution_count": 524,
   "metadata": {},
   "outputs": [
    {
     "name": "stdout",
     "output_type": "stream",
     "text": [
      "500\n",
      "500\n",
      "500\n"
     ]
    }
   ],
   "source": [
    "# YOU ARE REQUIRED TO INSERT YOUR CODES IN THIS CELL\n",
    "'''\n",
    "Write your code to print out the number of tweets containes in three variables: \n",
    "k1_tweets, k2_tweets and k3_tweets\n",
    "'''\n",
    "#INSERT YOUR CODE HERE\n",
    "print(len(k1_tweets))\n",
    "print(len(k2_tweets))\n",
    "print(len(k3_tweets))"
   ]
  },
  {
   "cell_type": "markdown",
   "metadata": {},
   "source": [
    "**Note**. When analysing tweets and text documents in general, an important analytics skill is to pre-process and filter the data into the form that one can start to apply analytics methods to extract knowledge. \n",
    "\n",
    "Tweets that are too short might not be useful for analysis. We define that tweets having less than 50 characters are short and should be remove. "
   ]
  },
  {
   "cell_type": "markdown",
   "metadata": {},
   "source": [
    "**Instruction 2.4**. In this task, you need to filter all short tweets.\n",
    "\n",
    "1. Write a function called `is_short_tweet` that takes a tweet as an input and return True if the text of the tweet has less than 50 characters and False otherwise. **(6 marks)**\n",
    "\n",
    "2. Write your codes to remove all tweets that have less than 50 characters in variables ***k1_tweets***, ***k2_tweets*** and ***k3_tweets*** and store the results in the new variables ***k1_tweets_filtered***, ***k2_tweets_filtered*** and ***k3_tweets_filtered***, respectively. **(6 marks)**\n",
    "\n",
    "[**Total mark: 12**]"
   ]
  },
  {
   "cell_type": "code",
   "execution_count": 525,
   "metadata": {},
   "outputs": [
    {
     "data": {
      "text/plain": [
       "False"
      ]
     },
     "execution_count": 525,
     "metadata": {},
     "output_type": "execute_result"
    }
   ],
   "source": [
    "# YOU ARE REQUIRED TO INSERT YOUR CODES IN THIS CELL\n",
    "def is_short_tweet(tweet):\n",
    "    if len(tweet['text'])<50:\n",
    "        return True\n",
    "    else: \n",
    "        return False\n",
    "    '''\n",
    "    Check if the text of \"tweet\" has less than 50 characters\n",
    "    '''\n",
    "    # INSERT YOUR CODE HERE\n",
    "is_short_tweet(k1_tweets[420])    \n",
    "\n",
    "\n",
    "    \n"
   ]
  },
  {
   "cell_type": "code",
   "execution_count": 540,
   "metadata": {
    "scrolled": true
   },
   "outputs": [
    {
     "name": "stdout",
     "output_type": "stream",
     "text": [
      "500 460\n",
      "500 470\n",
      "500 495\n"
     ]
    }
   ],
   "source": [
    "# YOU ARE REQUIRED TO INSERT YOUR CODES IN THIS CELL\n",
    "'''\n",
    "Write your codes to remove all tweets which have less than 50 characters in variables \n",
    "k1_tweets, k2_tweets and k3_tweets and store the results in the new variables \n",
    "k1_tweets_filtered, k2_tweets_filtered and k3_tweets_filtered respectively\n",
    "'''\n",
    "\n",
    "k1_tweets_filtered = []\n",
    "for i, c in enumerate(k1_tweets):\n",
    "    if len(c['text'])<50:\n",
    "        c.clear\n",
    "    else:\n",
    "        k1_tweets_filtered.append(c)\n",
    "        \n",
    "k2_tweets_filtered = []\n",
    "for i, c in enumerate(k2_tweets):\n",
    "    if len(c['text'])<50:\n",
    "        c.clear\n",
    "    else:\n",
    "        k2_tweets_filtered.append(c)\n",
    "            \n",
    "k3_tweets_filtered = []\n",
    "for i, c in enumerate(k3_tweets):\n",
    "    if len(c['text'])<50:\n",
    "        c.clear\n",
    "    else:\n",
    "        k3_tweets_filtered.append(c)\n",
    "'''\n",
    "    Check if the text of \"tweet\" has less than 50 characters\n",
    "'''\n",
    "\n",
    "         \n",
    "         # INSERT YOUR CODE HERE\n",
    "\n",
    "         \n",
    "print(len(k1_tweets), len(k1_tweets_filtered))  \n",
    "print(len(k2_tweets), len(k2_tweets_filtered))\n",
    "print(len(k3_tweets), len(k3_tweets_filtered))\n",
    "\n",
    "\n",
    "# these lines below print the number of tweets for each keyword before and after filtered.\n"
   ]
  },
  {
   "cell_type": "markdown",
   "metadata": {},
   "source": [
    "**Instruction 2.5**. For each keyword, print out the number of tweets that have been removed.\n",
    "\n",
    "[**Total mark: 3**]"
   ]
  },
  {
   "cell_type": "code",
   "execution_count": 528,
   "metadata": {},
   "outputs": [
    {
     "name": "stdout",
     "output_type": "stream",
     "text": [
      "40\n",
      "30\n",
      "5\n"
     ]
    }
   ],
   "source": [
    "# YOU ARE REQUIRED TO INSERT YOUR CODES IN THIS CELL\n",
    "'''\n",
    "For each keyword, print out the number of tweets that have been removed.\n",
    "'''\n",
    "print(len(k1_tweets) - len(k1_tweets_filtered))\n",
    "print(len(k2_tweets) - len(k2_tweets_filtered))\n",
    "print(len(k3_tweets) - len(k3_tweets_filtered))\n",
    "# INSERT YOUR CODE HERE\n"
   ]
  },
  {
   "cell_type": "markdown",
   "metadata": {},
   "source": [
    "**Instruction 2.6**. To examine what the tweets look like after being loaded from the data files and filtered, in the cell below write your code to print out the first **5** tweets for each keyword. \n",
    "\n",
    "You **must** use the variables ***k1_tweets_filtered, k2_tweets_filtered*** and ***k3_tweets_filtered*** which have stored the data after the filtering process for this task.\n",
    "\n",
    "[**Total mark: 3**]"
   ]
  },
  {
   "cell_type": "code",
   "execution_count": 541,
   "metadata": {},
   "outputs": [
    {
     "data": {
      "text/plain": [
       "list"
      ]
     },
     "execution_count": 541,
     "metadata": {},
     "output_type": "execute_result"
    }
   ],
   "source": [
    "type(k1_tweets)"
   ]
  },
  {
   "cell_type": "code",
   "execution_count": 530,
   "metadata": {},
   "outputs": [
    {
     "name": "stdout",
     "output_type": "stream",
     "text": [
      "The first 5 tweets for \"game\":\n",
      "\n",
      "0 RT @TheoHarrison9: Oh please, now slimy shorten is hinting the High Court moved the goal posts.\n",
      "Trouble is,even if they did, Ludlum startin…\n",
      "1 @HarfSerious You are getting ahead of yourself and you haven't even coached a game yet\n",
      "#bigshorts #bigego\n",
      "2 @Nboyz98 @madmuzz_196 @bbcmusic @DUALIPA Muzz you better order your lfc shirt in time for the game\n",
      "3 @AKRacingAus You guys have actually made it possible for me to play a game for longer than 20 minutes! And for that I thank you 💜\n",
      "4 RT @kloud_kat: @flyingpig32 @RicepirateMick Honestly, one of the best uses of Heaven's Door I've ever seen.\n",
      "\n",
      "The first 5 tweets for \"bike\":\n",
      "\n",
      "0 @Cameron_Kirby plenty of share ones in Melbourne to practice on. It's like riding a bike. An acoustic motorbike.\n",
      "1 New Atlas (nee Gizmag)... Vintage e-bike gets black-out looks and adventure-ready performance… https://t.co/cdClGWqAZk\n",
      "2 RT @curatorofkitsch: Checked out the #WW1 German ersatz (substitute) bike tyres while in one of the @AWMemorial collection stores today. Ru…\n",
      "3 RT @CarCarLaJenkins: My son is shocked and devastated, his new bike we picked up yesterday for him to do the great vic bike ride is damaged…\n",
      "4 RT @JoinTheDrive: The faster you go, the harder you hit. When you’re on your bike, you don’t have the same protection as a car, so you’ll a…\n",
      "\n",
      "The first 5 tweets for \"fiction\":\n",
      "\n",
      "0 @ElliotLangerman A good point, although I found non-fiction books were slightly better than fiction as audio books.\n",
      "1 RT @CHepworthAuthor: The Last Oracle: A Climate Fiction Thriller \n",
      "Click Here! https://t.co/AHsIp7CruP\n",
      "#climatefiction #sciencefiction #susp…\n",
      "2 RT @LamaJabr: The Last Oracle: A Climate Fiction Thriller by @CHepworthAuthor\n",
      "Click Here! https://t.co/U9FycxnSwa\n",
      "#climatefiction #sciencef…\n",
      "3 Truth is Stranger Than Fiction\n",
      "Source : Neet Onna to Shougaku 2-nensei https://t.co/3o1qp34G9N\n",
      "4 RT @LamaJabr: The Last Oracle: A Climate Fiction Thriller by @CHepworthAuthor\n",
      "Click Here! https://t.co/U9FycxnSwa\n",
      "#climatefiction #sciencef…\n"
     ]
    }
   ],
   "source": [
    "# YOU ARE REQUIRED TO INSERT YOUR CODES IN THIS CELL\n",
    "'''\n",
    "Write your code to print out the first 5 tweets for each keyword.\n",
    "You must use the variables k1_tweets_filtered, k2_tweets_filtered and k3_tweets_filtered \n",
    "which have stored the data after the filtering process for this task.\n",
    "\n",
    "Hint: Using tweet['text'] for tweet in k1_tweets_filtered\n",
    "'''\n",
    "\n",
    "print('The first 5 tweets for \\\"{}\\\":\\n'.format(keywords[0]))\n",
    "for c, i in enumerate(range(5)):\n",
    "    print(c, k1_tweets_filtered[i]['text'])# INSERT YOUR CODE HERE\n",
    "\n",
    "print('\\nThe first 5 tweets for \\\"{}\\\":\\n'.format(keywords[1]))\n",
    "for c, i in enumerate(range(5)):\n",
    "    print(c, k2_tweets_filtered[i]['text'])# INSERT YOUR CODE HERE\n",
    "\n",
    "print('\\nThe first 5 tweets for \\\"{}\\\":\\n'.format(keywords[2]))\n",
    "for c, i in enumerate(range(5)):\n",
    "    print(c, k3_tweets_filtered[i]['text'])# INSERT YOUR CODE HERE"
   ]
  },
  {
   "cell_type": "markdown",
   "metadata": {},
   "source": [
    "### Part 2B: Constructing Term-by-Document Matrix\n",
    "\n",
    "As we have learned in our class, in text analytics and in general dealing with unstructured data, to start perform **computational** tasks such as computing the distance between two documents, we need to represent them in **numerical** formats. A popular technique we have learned is the bag-of-word representation and the term-by-document matrix, also known as the vector-space model.\n",
    "\n",
    "This part of the assignment will require you to construct the term-by-document matrix for the tweets stored in three variables ***k1_tweets_filtered***, ***k2_tweets_filtered*** and ***k3_tweets_filtered***."
   ]
  },
  {
   "cell_type": "markdown",
   "metadata": {},
   "source": [
    "**Note.** Tweets are often not neat as you might have seen from early tasks. As tweet such as this \n",
    "```\n",
    "Happy shopping👗👚👠👜 (with Vivi and Irmalia at @infomog) — https://t.co/fUGO9Eex1r\n",
    "```\n",
    "might contain non-ASCII characters, emoticon, punctuations, etc. Building a bag-of-word representation **without** pre-processing the data can be ineffective. \n",
    "\n",
    "The following function ***pre_process()*** has been designed to preprocess the data for you."
   ]
  },
  {
   "cell_type": "code",
   "execution_count": 531,
   "metadata": {},
   "outputs": [],
   "source": [
    "def remove_non_ascii(s): return \"\".join(i for i in s if ord(i)<128)\n",
    "def pre_process(doc):\n",
    "    \"\"\"\n",
    "    pre-processes a doc\n",
    "      * Converts the tweet into lower case,\n",
    "      * removes the URLs,\n",
    "      * removes the punctuations\n",
    "      * tokenizes the tweet\n",
    "      * removes words less that 3 characters\n",
    "    \"\"\"\n",
    "    \n",
    "    doc = doc.lower()\n",
    "    # getting rid of non ascii codes\n",
    "    doc = remove_non_ascii(doc)\n",
    "    \n",
    "    # replacing URLs\n",
    "    url_pattern = \"http://[^\\s]+|https://[^\\s]+|www.[^\\s]+|[^\\s]+\\.com|bit.ly/[^\\s]+\"\n",
    "    doc = re.sub(url_pattern, 'url', doc) \n",
    "\n",
    "    punctuation = r\"\\(|\\)|#|\\'|\\\"|-|:|\\\\|\\/|!|\\?|_|,|=|;|>|<|\\.|\\@\"\n",
    "    doc = re.sub(punctuation, ' ', doc)\n",
    "    \n",
    "    return [w for w in doc.split() if len(w) > 2]"
   ]
  },
  {
   "cell_type": "markdown",
   "metadata": {},
   "source": [
    "**Note**. For example, the following code will display the first tweet stored in the variable ***k1_tweets_filtered*** (for the first keyword) before and after it has been pre-processed."
   ]
  },
  {
   "cell_type": "code",
   "execution_count": 532,
   "metadata": {},
   "outputs": [
    {
     "name": "stdout",
     "output_type": "stream",
     "text": [
      "RT @TheoHarrison9: Oh please, now slimy shorten is hinting the High Court moved the goal posts.\n",
      "Trouble is,even if they did, Ludlum startin…\n",
      "theoharrison9 please now slimy shorten hinting the high court moved the goal posts trouble even they did ludlum startin\n"
     ]
    }
   ],
   "source": [
    "tweet_k1 = k1_tweets_filtered[0]['text']\n",
    "tweet_k1_processed = pre_process(tweet_k1)\n",
    "\n",
    "print(tweet_k1)\n",
    "# tweet_k1_processed is now a list of words. \n",
    "# We use ' '.join() method to join the list to a string.\n",
    "print(' '.join(tweet_k1_processed))\n",
    "\n"
   ]
  },
  {
   "cell_type": "code",
   "execution_count": 533,
   "metadata": {},
   "outputs": [],
   "source": [
    "w1 = []\n",
    "for k in k1_tweets_filtered:\n",
    "    w1.append(pre_process(k['text']))"
   ]
  },
  {
   "cell_type": "markdown",
   "metadata": {},
   "source": [
    "**Instruction 2.7**. Use the example above, write your code to display the **first** tweets stored in the variables ***k2_tweets_filtered*** and ***k2_tweets_filtered*** before and after they have been pre-processed using the function ***pre_process()*** supplied earlier.\n",
    "\n",
    "[**Total mark: 4**]"
   ]
  },
  {
   "cell_type": "code",
   "execution_count": 534,
   "metadata": {
    "scrolled": true
   },
   "outputs": [
    {
     "name": "stdout",
     "output_type": "stream",
     "text": [
      "@Cameron_Kirby plenty of share ones in Melbourne to practice on. It's like riding a bike. An acoustic motorbike.\n",
      "New Atlas (nee Gizmag)... Vintage e-bike gets black-out looks and adventure-ready performance… https://t.co/cdClGWqAZk\n",
      "RT @curatorofkitsch: Checked out the #WW1 German ersatz (substitute) bike tyres while in one of the @AWMemorial collection stores today. Ru…\n",
      "RT @CarCarLaJenkins: My son is shocked and devastated, his new bike we picked up yesterday for him to do the great vic bike ride is damaged…\n",
      "RT @JoinTheDrive: The faster you go, the harder you hit. When you’re on your bike, you don’t have the same protection as a car, so you’ll a…\n",
      "\n",
      "[['cameron', 'kirby', 'plenty', 'share', 'ones', 'melbourne', 'practice', 'like', 'riding', 'bike', 'acoustic', 'motorbike'], ['new', 'atlas', 'nee', 'gizmag', 'vintage', 'bike', 'gets', 'black', 'out', 'looks', 'and', 'adventure', 'ready', 'performance', 'url'], ['curatorofkitsch', 'checked', 'out', 'the', 'ww1', 'german', 'ersatz', 'substitute', 'bike', 'tyres', 'while', 'one', 'the', 'awmemorial', 'collection', 'stores', 'today'], ['carcarlajenkins', 'son', 'shocked', 'and', 'devastated', 'his', 'new', 'bike', 'picked', 'yesterday', 'for', 'him', 'the', 'great', 'vic', 'bike', 'ride', 'damaged'], ['jointhedrive', 'the', 'faster', 'you', 'the', 'harder', 'you', 'hit', 'when', 'youre', 'your', 'bike', 'you', 'dont', 'have', 'the', 'same', 'protection', 'car', 'youll']]\n"
     ]
    }
   ],
   "source": [
    "for k in range(5):\n",
    "    print(k2_tweets_filtered[k]['text'])\n",
    "print()\n",
    "\n",
    "k2_tweets_processed = []\n",
    "for i, k in enumerate(k2_tweets_filtered):\n",
    "    k2_tweets_processed.append(pre_process(k['text']))\n",
    "\n",
    "print(k2_tweets_processed[0:5])"
   ]
  },
  {
   "cell_type": "code",
   "execution_count": 535,
   "metadata": {},
   "outputs": [
    {
     "name": "stdout",
     "output_type": "stream",
     "text": [
      "@Cameron_Kirby plenty of share ones in Melbourne to practice on. It's like riding a bike. An acoustic motorbike.\n",
      "New Atlas (nee Gizmag)... Vintage e-bike gets black-out looks and adventure-ready performance… https://t.co/cdClGWqAZk\n",
      "RT @curatorofkitsch: Checked out the #WW1 German ersatz (substitute) bike tyres while in one of the @AWMemorial collection stores today. Ru…\n",
      "RT @CarCarLaJenkins: My son is shocked and devastated, his new bike we picked up yesterday for him to do the great vic bike ride is damaged…\n",
      "RT @JoinTheDrive: The faster you go, the harder you hit. When you’re on your bike, you don’t have the same protection as a car, so you’ll a…\n",
      "\n",
      "[['cameron', 'kirby', 'plenty', 'share', 'ones', 'melbourne', 'practice', 'like', 'riding', 'bike', 'acoustic', 'motorbike'], ['new', 'atlas', 'nee', 'gizmag', 'vintage', 'bike', 'gets', 'black', 'out', 'looks', 'and', 'adventure', 'ready', 'performance', 'url'], ['curatorofkitsch', 'checked', 'out', 'the', 'ww1', 'german', 'ersatz', 'substitute', 'bike', 'tyres', 'while', 'one', 'the', 'awmemorial', 'collection', 'stores', 'today'], ['carcarlajenkins', 'son', 'shocked', 'and', 'devastated', 'his', 'new', 'bike', 'picked', 'yesterday', 'for', 'him', 'the', 'great', 'vic', 'bike', 'ride', 'damaged'], ['jointhedrive', 'the', 'faster', 'you', 'the', 'harder', 'you', 'hit', 'when', 'youre', 'your', 'bike', 'you', 'dont', 'have', 'the', 'same', 'protection', 'car', 'youll']]\n",
      "\n",
      "@ElliotLangerman A good point, although I found non-fiction books were slightly better than fiction as audio books.\n",
      "RT @CHepworthAuthor: The Last Oracle: A Climate Fiction Thriller \n",
      "Click Here! https://t.co/AHsIp7CruP\n",
      "#climatefiction #sciencefiction #susp…\n",
      "RT @LamaJabr: The Last Oracle: A Climate Fiction Thriller by @CHepworthAuthor\n",
      "Click Here! https://t.co/U9FycxnSwa\n",
      "#climatefiction #sciencef…\n",
      "Truth is Stranger Than Fiction\n",
      "Source : Neet Onna to Shougaku 2-nensei https://t.co/3o1qp34G9N\n",
      "RT @LamaJabr: The Last Oracle: A Climate Fiction Thriller by @CHepworthAuthor\n",
      "Click Here! https://t.co/U9FycxnSwa\n",
      "#climatefiction #sciencef…\n",
      "\n",
      "[['elliotlangerman', 'good', 'point', 'although', 'found', 'non', 'fiction', 'books', 'were', 'slightly', 'better', 'than', 'fiction', 'audio', 'books'], ['chepworthauthor', 'the', 'last', 'oracle', 'climate', 'fiction', 'thriller', 'click', 'here', 'url', 'climatefiction', 'sciencefiction', 'susp'], ['lamajabr', 'the', 'last', 'oracle', 'climate', 'fiction', 'thriller', 'chepworthauthor', 'click', 'here', 'url', 'climatefiction', 'sciencef'], ['truth', 'stranger', 'than', 'fiction', 'source', 'neet', 'onna', 'shougaku', 'nensei', 'url'], ['lamajabr', 'the', 'last', 'oracle', 'climate', 'fiction', 'thriller', 'chepworthauthor', 'click', 'here', 'url', 'climatefiction', 'sciencef']]\n"
     ]
    }
   ],
   "source": [
    "# YOU ARE REQUIRED TO INSERT YOUR CODES IN THIS CELL\n",
    "'''\n",
    "Use the example above, write your code to display the first tweets stored in \n",
    "the variables k2_tweets_filtered and k3_tweets_filtered before and after they \n",
    "have been pre-processed using the function pre_process() supplied earlier.\n",
    "'''\n",
    "\n",
    "# INSERT YOUR CODE HERE\n",
    "for k in range(5):\n",
    "    print(k2_tweets_filtered[k]['text'])\n",
    "print()\n",
    "\n",
    "k2_tweets_processed = []\n",
    "for i, k in enumerate(k2_tweets_filtered):\n",
    "    k2_tweets_processed.append(pre_process(k['text']))\n",
    "\n",
    "print(k2_tweets_processed[0:5])\n",
    "print()\n",
    "\n",
    "for k in range(5):\n",
    "    print(k3_tweets_filtered[k]['text'])\n",
    "print()\n",
    "\n",
    "k3_tweets_processed = []\n",
    "for i, k in enumerate(k3_tweets_filtered):\n",
    "    k3_tweets_processed.append(pre_process(k['text']))\n",
    "\n",
    "print(k3_tweets_processed[0:5])\n",
    "#ds2 = []\n",
    "#for c, i in enumerate(k2_tweets_filtered):\n",
    "#    print(c, i['text'])\n",
    "#    ds2.append(i)\n",
    "\n",
    "#k2_tweets_processed = []\n",
    "#for i in (ds2):\n",
    "#    k2_tweets_processed.append(pre_process(i['text']))\n",
    "\n",
    "#print(k2_tweets_processed)\n",
    "\n",
    "#ds3= []\n",
    "#for c, i in enumerate(k3_tweets_filtered):\n",
    "#    print(c, i['text'])\n",
    "#    ds3.append(i)\n",
    "\n",
    "#k3_tweets_processed = []\n",
    "#for i in (ds3):\n",
    "#    k3_tweets_processed.append(pre_process(i['text']))\n",
    "    \n",
    "#print(k3_tweets_processed)\n",
    "\n",
    "#ds2 = []\n",
    "#for c, i in enumerate(k2_tweets_filtered):\n",
    "#    ds2.append(i['text'])\n",
    "\n",
    "#k2_tweets_processed = pre_process(''.join(ds2))\n",
    "#print('  '.join(k2_tweets_processed))\n",
    "\n",
    "#ds3 = []\n",
    "#for c, i in enumerate(k3_tweets_filtered):\n",
    "#    ds3.append(i['text'])\n",
    "\n",
    "#k3_tweets_processed = pre_process(''.join(ds3))\n",
    "#print('  '.join(k3_tweets_processed))"
   ]
  },
  {
   "cell_type": "markdown",
   "metadata": {},
   "source": [
    "**Instruction 2.8**. Write your code to pre-process and clean up all tweets stored in the variable ***k1_tweets_filtered***, ***k2_tweets_filtered*** and ***k3_tweets_filtered*** using the function ***pre_process()*** to result in new variables ***k1_tweets_processed***, ***k2_tweets_processed*** and ***k3_tweets_processed***.\n",
    "\n",
    "[**Total mark: 6**]"
   ]
  },
  {
   "cell_type": "code",
   "execution_count": 536,
   "metadata": {},
   "outputs": [
    {
     "name": "stdout",
     "output_type": "stream",
     "text": [
      "RT @TheoHarrison9: Oh please, now slimy shorten is hinting the High Court moved the goal posts.\n",
      "Trouble is,even if they did, Ludlum startin…\n",
      "@HarfSerious You are getting ahead of yourself and you haven't even coached a game yet\n",
      "#bigshorts #bigego\n",
      "@Nboyz98 @madmuzz_196 @bbcmusic @DUALIPA Muzz you better order your lfc shirt in time for the game\n",
      "@AKRacingAus You guys have actually made it possible for me to play a game for longer than 20 minutes! And for that I thank you 💜\n",
      "RT @kloud_kat: @flyingpig32 @RicepirateMick Honestly, one of the best uses of Heaven's Door I've ever seen.\n",
      "\n",
      "[['theoharrison9', 'please', 'now', 'slimy', 'shorten', 'hinting', 'the', 'high', 'court', 'moved', 'the', 'goal', 'posts', 'trouble', 'even', 'they', 'did', 'ludlum', 'startin'], ['harfserious', 'you', 'are', 'getting', 'ahead', 'yourself', 'and', 'you', 'haven', 'even', 'coached', 'game', 'yet', 'bigshorts', 'bigego'], ['nboyz98', 'madmuzz', '196', 'bbcmusic', 'dualipa', 'muzz', 'you', 'better', 'order', 'your', 'lfc', 'shirt', 'time', 'for', 'the', 'game'], ['akracingaus', 'you', 'guys', 'have', 'actually', 'made', 'possible', 'for', 'play', 'game', 'for', 'longer', 'than', 'minutes', 'and', 'for', 'that', 'thank', 'you'], ['kloud', 'kat', 'flyingpig32', 'ricepiratemick', 'honestly', 'one', 'the', 'best', 'uses', 'heaven', 'door', 'ever', 'seen']]\n",
      "\n",
      "@Cameron_Kirby plenty of share ones in Melbourne to practice on. It's like riding a bike. An acoustic motorbike.\n",
      "New Atlas (nee Gizmag)... Vintage e-bike gets black-out looks and adventure-ready performance… https://t.co/cdClGWqAZk\n",
      "RT @curatorofkitsch: Checked out the #WW1 German ersatz (substitute) bike tyres while in one of the @AWMemorial collection stores today. Ru…\n",
      "RT @CarCarLaJenkins: My son is shocked and devastated, his new bike we picked up yesterday for him to do the great vic bike ride is damaged…\n",
      "RT @JoinTheDrive: The faster you go, the harder you hit. When you’re on your bike, you don’t have the same protection as a car, so you’ll a…\n",
      "\n",
      "[['cameron', 'kirby', 'plenty', 'share', 'ones', 'melbourne', 'practice', 'like', 'riding', 'bike', 'acoustic', 'motorbike'], ['new', 'atlas', 'nee', 'gizmag', 'vintage', 'bike', 'gets', 'black', 'out', 'looks', 'and', 'adventure', 'ready', 'performance', 'url'], ['curatorofkitsch', 'checked', 'out', 'the', 'ww1', 'german', 'ersatz', 'substitute', 'bike', 'tyres', 'while', 'one', 'the', 'awmemorial', 'collection', 'stores', 'today'], ['carcarlajenkins', 'son', 'shocked', 'and', 'devastated', 'his', 'new', 'bike', 'picked', 'yesterday', 'for', 'him', 'the', 'great', 'vic', 'bike', 'ride', 'damaged'], ['jointhedrive', 'the', 'faster', 'you', 'the', 'harder', 'you', 'hit', 'when', 'youre', 'your', 'bike', 'you', 'dont', 'have', 'the', 'same', 'protection', 'car', 'youll']]\n",
      "\n",
      "@ElliotLangerman A good point, although I found non-fiction books were slightly better than fiction as audio books.\n",
      "RT @CHepworthAuthor: The Last Oracle: A Climate Fiction Thriller \n",
      "Click Here! https://t.co/AHsIp7CruP\n",
      "#climatefiction #sciencefiction #susp…\n",
      "RT @LamaJabr: The Last Oracle: A Climate Fiction Thriller by @CHepworthAuthor\n",
      "Click Here! https://t.co/U9FycxnSwa\n",
      "#climatefiction #sciencef…\n",
      "Truth is Stranger Than Fiction\n",
      "Source : Neet Onna to Shougaku 2-nensei https://t.co/3o1qp34G9N\n",
      "RT @LamaJabr: The Last Oracle: A Climate Fiction Thriller by @CHepworthAuthor\n",
      "Click Here! https://t.co/U9FycxnSwa\n",
      "#climatefiction #sciencef…\n",
      "\n",
      "[['elliotlangerman', 'good', 'point', 'although', 'found', 'non', 'fiction', 'books', 'were', 'slightly', 'better', 'than', 'fiction', 'audio', 'books'], ['chepworthauthor', 'the', 'last', 'oracle', 'climate', 'fiction', 'thriller', 'click', 'here', 'url', 'climatefiction', 'sciencefiction', 'susp'], ['lamajabr', 'the', 'last', 'oracle', 'climate', 'fiction', 'thriller', 'chepworthauthor', 'click', 'here', 'url', 'climatefiction', 'sciencef'], ['truth', 'stranger', 'than', 'fiction', 'source', 'neet', 'onna', 'shougaku', 'nensei', 'url'], ['lamajabr', 'the', 'last', 'oracle', 'climate', 'fiction', 'thriller', 'chepworthauthor', 'click', 'here', 'url', 'climatefiction', 'sciencef']]\n"
     ]
    }
   ],
   "source": [
    "# YOU ARE REQUIRED TO INSERT YOUR CODES IN THIS CELL\n",
    "'''\n",
    "Write your code to pre-process and clean up all tweets \n",
    "stored in the variable k1_tweets_filtered, k2_tweets_filtered and k3_tweets_filtered using the \n",
    "function pre_process() to result in new variables k1_tweets_processed, k2_tweets_processed \n",
    "and k3_tweets_processed.\n",
    "'''\n",
    "# INSERT YOUR CODE HERE\n",
    "for k in range(5):\n",
    "    print(k1_tweets_filtered[k]['text'])\n",
    "print()\n",
    "\n",
    "k1_tweets_processed = []\n",
    "for i, k in enumerate(k1_tweets_filtered):\n",
    "    k1_tweets_processed.append(pre_process(k['text']))\n",
    "\n",
    "print(k1_tweets_processed[0:5])\n",
    "print()\n",
    "\n",
    "for k in range(5):\n",
    "    print(k2_tweets_filtered[k]['text'])\n",
    "print()\n",
    "\n",
    "k2_tweets_processed = []\n",
    "for i, k in enumerate(k2_tweets_filtered):\n",
    "    k2_tweets_processed.append(pre_process(k['text']))\n",
    "\n",
    "print(k2_tweets_processed[0:5])\n",
    "print()\n",
    "\n",
    "for k in range(5):\n",
    "    print(k3_tweets_filtered[k]['text'])\n",
    "print()\n",
    "\n",
    "k3_tweets_processed = []\n",
    "for i, k in enumerate(k3_tweets_filtered):\n",
    "    k3_tweets_processed.append(pre_process(k['text']))\n",
    "\n",
    "print(k3_tweets_processed[0:5])\n",
    "\n"
   ]
  },
  {
   "cell_type": "code",
   "execution_count": 486,
   "metadata": {},
   "outputs": [],
   "source": [
    "\n",
    "#ds = []\n",
    "#for c, i in enumerate(k1_tweets_filtered):\n",
    "#    print(c, i['text'])\n",
    "#    ds.append(i)\n",
    "\n",
    "#k1_tweets_processed = []\n",
    "#for i in (ds):\n",
    "#    k1_tweets_processed.append(pre_process(i['text']))\n",
    "\n",
    "#print(k1_tweets_processed)\n",
    "\n",
    "\n",
    "#ds2 = []\n",
    "#for c, i in enumerate(k2_tweets_filtered):\n",
    "#    print(c, i['text'])\n",
    "#    ds2.append(i)\n",
    "\n",
    "#k2_tweets_processed = []\n",
    "#for i in (ds2):\n",
    " #   k2_tweets_processed.append(pre_process(i['text']))\n",
    "\n",
    "#print(k2_tweets_processed)\n",
    "\n",
    "#ds3= []\n",
    "#for c, i in enumerate(k3_tweets_filtered):\n",
    "#    print(c, i['text'])\n",
    "#    ds3.append(i)\n",
    "\n",
    "#k3_tweets_processed = []\n",
    "#for i in (ds3):\n",
    "#    k3_tweets_processed.append(pre_process(i['text']))\n",
    "    \n",
    "#print(k3_tweets_processed)"
   ]
  },
  {
   "cell_type": "markdown",
   "metadata": {},
   "source": [
    "**Instruction 2.9**. Now, write your code to print out the **first 5 processed tweets** for each keyword *(the processed tweets are stored in **k1_tweets_processed**, **k2_tweets_processed** and **k3_tweets_processed**)*\n",
    "\n",
    "[**Total mark: 7**]"
   ]
  },
  {
   "cell_type": "code",
   "execution_count": 538,
   "metadata": {
    "scrolled": true
   },
   "outputs": [
    {
     "name": "stdout",
     "output_type": "stream",
     "text": [
      "The first 5 processed tweets for k1_tweets_processed:\n",
      "[['theoharrison9', 'please', 'now', 'slimy', 'shorten', 'hinting', 'the', 'high', 'court', 'moved', 'the', 'goal', 'posts', 'trouble', 'even', 'they', 'did', 'ludlum', 'startin'], ['harfserious', 'you', 'are', 'getting', 'ahead', 'yourself', 'and', 'you', 'haven', 'even', 'coached', 'game', 'yet', 'bigshorts', 'bigego'], ['nboyz98', 'madmuzz', '196', 'bbcmusic', 'dualipa', 'muzz', 'you', 'better', 'order', 'your', 'lfc', 'shirt', 'time', 'for', 'the', 'game'], ['akracingaus', 'you', 'guys', 'have', 'actually', 'made', 'possible', 'for', 'play', 'game', 'for', 'longer', 'than', 'minutes', 'and', 'for', 'that', 'thank', 'you'], ['kloud', 'kat', 'flyingpig32', 'ricepiratemick', 'honestly', 'one', 'the', 'best', 'uses', 'heaven', 'door', 'ever', 'seen']]\n",
      "\n",
      "The first 5 processed tweets for k2_tweets_processed:\n",
      "[['cameron', 'kirby', 'plenty', 'share', 'ones', 'melbourne', 'practice', 'like', 'riding', 'bike', 'acoustic', 'motorbike'], ['new', 'atlas', 'nee', 'gizmag', 'vintage', 'bike', 'gets', 'black', 'out', 'looks', 'and', 'adventure', 'ready', 'performance', 'url'], ['curatorofkitsch', 'checked', 'out', 'the', 'ww1', 'german', 'ersatz', 'substitute', 'bike', 'tyres', 'while', 'one', 'the', 'awmemorial', 'collection', 'stores', 'today'], ['carcarlajenkins', 'son', 'shocked', 'and', 'devastated', 'his', 'new', 'bike', 'picked', 'yesterday', 'for', 'him', 'the', 'great', 'vic', 'bike', 'ride', 'damaged'], ['jointhedrive', 'the', 'faster', 'you', 'the', 'harder', 'you', 'hit', 'when', 'youre', 'your', 'bike', 'you', 'dont', 'have', 'the', 'same', 'protection', 'car', 'youll']]\n",
      "\n",
      "The first 5 processed tweets for k3_tweets_processed:\n",
      "[['elliotlangerman', 'good', 'point', 'although', 'found', 'non', 'fiction', 'books', 'were', 'slightly', 'better', 'than', 'fiction', 'audio', 'books'], ['chepworthauthor', 'the', 'last', 'oracle', 'climate', 'fiction', 'thriller', 'click', 'here', 'url', 'climatefiction', 'sciencefiction', 'susp'], ['lamajabr', 'the', 'last', 'oracle', 'climate', 'fiction', 'thriller', 'chepworthauthor', 'click', 'here', 'url', 'climatefiction', 'sciencef'], ['truth', 'stranger', 'than', 'fiction', 'source', 'neet', 'onna', 'shougaku', 'nensei', 'url'], ['lamajabr', 'the', 'last', 'oracle', 'climate', 'fiction', 'thriller', 'chepworthauthor', 'click', 'here', 'url', 'climatefiction', 'sciencef']]\n"
     ]
    }
   ],
   "source": [
    "# YOU ARE REQUIRED TO INSERT YOUR CODES IN THIS CELL\n",
    "'''\n",
    "Now write your code to print out the first 5 processed tweets for each keyword.\n",
    "Hint: Each tweet in tweets_processed is now a list of words, not a string. \n",
    "      To print a string, you might need to use ' '.join(tweet), \n",
    "      when tweet is a processed tweet\n",
    "\n",
    "'''\n",
    "\n",
    "print('The first 5 processed tweets for k1_tweets_processed:')\n",
    "# INSERT YOUR CODE HERE\n",
    "print(k1_tweets_processed[0:5])\n",
    "print('\\nThe first 5 processed tweets for k2_tweets_processed:')\n",
    "# INSERT YOUR CODE HERE\n",
    "print(k2_tweets_processed[0:5])\n",
    "print('\\nThe first 5 processed tweets for k3_tweets_processed:')\n",
    "# INSERT YOUR CODE HERE\n",
    "print(k3_tweets_processed[0:5])\n"
   ]
  },
  {
   "cell_type": "markdown",
   "metadata": {},
   "source": [
    "**Note**. The following function ***construct_termdoc()*** has been implemented to construct the term-by-document matrix from a corpus of text data. **You will need this function for subsequent task**."
   ]
  },
  {
   "cell_type": "code",
   "execution_count": 539,
   "metadata": {},
   "outputs": [],
   "source": [
    "def construct_termdoc(docs, vocab=[]):\n",
    "    \"\"\"\n",
    "    Construct a term-by-document-matrix\n",
    "    \n",
    "    docs: corpus\n",
    "    vocab: pre-defined vocabulary\n",
    "           if not supplied it will be automatically induced from the data\n",
    "    \n",
    "    returns the term-by-document matrix and the vocabulary of the passed corpus\n",
    "    \"\"\"\n",
    "    \n",
    "    # vocab is not passed\n",
    "    if vocab == []:\n",
    "        vocab = set()\n",
    "        termdoc_sparse = []\n",
    "\n",
    "        for doc in docs:       \n",
    "            # computes the frequencies of doc\n",
    "            doc_sparse = Counter(doc)    \n",
    "            termdoc_sparse.append(doc_sparse)\n",
    "            \n",
    "            # update the vocab\n",
    "            vocab.update(doc_sparse.keys())  \n",
    "\n",
    "        vocab = list(vocab)\n",
    "        vocab.sort()\n",
    "    \n",
    "    else:\n",
    "        termdoc_sparse = []        \n",
    "        for doc in docs:\n",
    "            termdoc_sparse.append(Counter(doc))\n",
    "            \n",
    "\n",
    "    n_docs = len(docs)\n",
    "    n_vocab = len(vocab)\n",
    "    termdoc_dense = np.zeros((n_docs, n_vocab), dtype=int)\n",
    "\n",
    "    for j, doc_sparse in enumerate(termdoc_sparse):\n",
    "        for term, freq in doc_sparse.items():\n",
    "            try:\n",
    "                termdoc_dense[j, vocab.index(term)] = freq\n",
    "            except:\n",
    "                pass\n",
    "            \n",
    "    return termdoc_dense, vocab"
   ]
  },
  {
   "cell_type": "markdown",
   "metadata": {},
   "source": [
    "**Note**. Now suppose that we would like to construct a term-by-document matrix for tweets collected for the **first keyword only**. The following piece of codes will do this by computing the term-by-document matrix and the vocabulary for tweets stored in **k1_tweets_processed**, print them out and visualise the corresponding term-by-document matrix stored in the variable ***k1_termdoc***. The corresponding vocabulary dictionary computed from this data will also be stored in the variable ***k1_vocab***."
   ]
  },
  {
   "cell_type": "code",
   "execution_count": 495,
   "metadata": {},
   "outputs": [
    {
     "name": "stdout",
     "output_type": "stream",
     "text": [
      "[[0 0 0 ... 0 0 0]\n",
      " [0 0 0 ... 0 0 0]\n",
      " [0 0 0 ... 0 0 0]\n",
      " ...\n",
      " [0 0 1 ... 0 0 0]\n",
      " [0 0 0 ... 0 0 0]\n",
      " [0 0 0 ... 0 0 0]]\n",
      "\n",
      "&amp 1060 2000s 250th 278\n"
     ]
    },
    {
     "data": {
      "text/plain": [
       "Text(0.5,1,'Term-by-Document matrix from tweets collected for keyword \"game\"')"
      ]
     },
     "execution_count": 495,
     "metadata": {},
     "output_type": "execute_result"
    },
    {
     "data": {
      "image/png": "[encoded data removed]",
      "text/plain": [
       "<matplotlib.figure.Figure at 0x1ed07769cf8>"
      ]
     },
     "metadata": {},
     "output_type": "display_data"
    }
   ],
   "source": [
    "'''\n",
    "compute the term-by-document matrix and the the dictionary from the collection of \n",
    "tweets collected for the first keyword\n",
    "'''\n",
    "k1_termdoc, k1_vocab = construct_termdoc(k1_tweets_processed)\n",
    "\n",
    "# print out the term-by-document matrix\n",
    "print(k1_termdoc)\n",
    "# print out the first 5 vocabularies\n",
    "print(' '.join(k1_vocab[:5]))  # print out only the first 5 vocabs\n",
    "\n",
    "# visualise the term-by-document matrix\n",
    "fig, ax = plt.subplots(figsize=(10, 5))\n",
    "ax.imshow(k1_termdoc)\n",
    "ax.set_xlabel('term (vocabulary)')\n",
    "ax.set_ylabel('documents (tweets)')\n",
    "ax.set_title('Term-by-Document matrix from tweets collected for keyword \\\"{}\\\"'.format(keywords[0]))"
   ]
  },
  {
   "cell_type": "markdown",
   "metadata": {},
   "source": [
    "**Note**. Next, we would like to compute the pairwise distances between every two tweets. This will help us to see how similar tweets are. This is a computational task that would be *not* possible to do if we use the raw tweets.\n",
    "\n",
    "However, with the term-by-document matrix, each tweet now is vector and corresponds to a row in the term-by-document matrix. Hence, we can use the distance between vectors to compute the distance between tweets. This is also known as the **vector space model** in information retrieval literature."
   ]
  },
  {
   "cell_type": "markdown",
   "metadata": {},
   "source": [
    "**Instruction 2.10**. Your tasks are:\n",
    "\n",
    "1. Define a function to compute and return the Euclidean distance between two vectors as we have learned from the class notes. **(5 marks)**\n",
    "\n",
    "2. Construct function that returns a distance matrix ***euclidean_distance_matrix*** whose element (i,j) stores the Eulidean distance between tweet i-th and i-jth. **You will need this function for subsequent task**. **(5 marks)**\n",
    "\n",
    "**[Total mark: 10]**"
   ]
  },
  {
   "cell_type": "code",
   "execution_count": 512,
   "metadata": {},
   "outputs": [],
   "source": [
    "# YOU ARE REQUIRED TO INSERT YOUR CODES IN THIS CELL\n",
    "\n",
    "def Euclidean_distance(x,y):\n",
    "    '''\n",
    "    Compute and return the Euclidean distance between two vectors x and y\n",
    "    '''\n",
    "    # INSERT YOUR CODE HERE\n",
    "    dist = (np.array(x) - np.array(y))*(np.array(x) - np.array(y))\n",
    "    return np.sqrt(dist.sum())"
   ]
  },
  {
   "cell_type": "code",
   "execution_count": 514,
   "metadata": {},
   "outputs": [
    {
     "ename": "NameError",
     "evalue": "name 'j' is not defined",
     "output_type": "error",
     "traceback": [
      "\u001b[1;31m---------------------------------------------------------------------------\u001b[0m",
      "\u001b[1;31mNameError\u001b[0m                                 Traceback (most recent call last)",
      "\u001b[1;32m<ipython-input-514-332972c3fd30>\u001b[0m in \u001b[0;36m<module>\u001b[1;34m()\u001b[0m\n\u001b[0;32m     12\u001b[0m     \u001b[0mk1_vocab\u001b[0m\u001b[1;33m[\u001b[0m\u001b[0mj\u001b[0m\u001b[1;33m]\u001b[0m \u001b[1;33m-\u001b[0m \u001b[0mk1_vocab\u001b[0m\u001b[1;33m[\u001b[0m\u001b[0mi\u001b[0m\u001b[1;33m]\u001b[0m\u001b[1;33m\u001b[0m\u001b[0m\n\u001b[0;32m     13\u001b[0m \u001b[1;33m\u001b[0m\u001b[0m\n\u001b[1;32m---> 14\u001b[1;33m \u001b[0mcompute_euclidean_distance_matrix\u001b[0m\u001b[1;33m(\u001b[0m\u001b[0mk1_termdoc\u001b[0m\u001b[1;33m)\u001b[0m\u001b[1;33m\u001b[0m\u001b[0m\n\u001b[0m",
      "\u001b[1;32m<ipython-input-514-332972c3fd30>\u001b[0m in \u001b[0;36mcompute_euclidean_distance_matrix\u001b[1;34m(termdoc)\u001b[0m\n\u001b[0;32m     10\u001b[0m     \u001b[1;31m# INSERT YOUR CODE HERE\u001b[0m\u001b[1;33m\u001b[0m\u001b[1;33m\u001b[0m\u001b[0m\n\u001b[0;32m     11\u001b[0m     \u001b[0mnp\u001b[0m\u001b[1;33m.\u001b[0m\u001b[0marray\u001b[0m\u001b[1;33m(\u001b[0m\u001b[0mEuclidean_distance\u001b[0m\u001b[1;33m)\u001b[0m\u001b[1;33m\u001b[0m\u001b[0m\n\u001b[1;32m---> 12\u001b[1;33m     \u001b[0mk1_vocab\u001b[0m\u001b[1;33m[\u001b[0m\u001b[0mj\u001b[0m\u001b[1;33m]\u001b[0m \u001b[1;33m-\u001b[0m \u001b[0mk1_vocab\u001b[0m\u001b[1;33m[\u001b[0m\u001b[0mi\u001b[0m\u001b[1;33m]\u001b[0m\u001b[1;33m\u001b[0m\u001b[0m\n\u001b[0m\u001b[0;32m     13\u001b[0m \u001b[1;33m\u001b[0m\u001b[0m\n\u001b[0;32m     14\u001b[0m \u001b[0mcompute_euclidean_distance_matrix\u001b[0m\u001b[1;33m(\u001b[0m\u001b[0mk1_termdoc\u001b[0m\u001b[1;33m)\u001b[0m\u001b[1;33m\u001b[0m\u001b[0m\n",
      "\u001b[1;31mNameError\u001b[0m: name 'j' is not defined"
     ]
    }
   ],
   "source": [
    "# YOU ARE REQUIRED TO INSERT YOUR CODES IN THIS CELL\n",
    "'''\n",
    "The function takes the termdoc matrix as the input and compute a variable called \"euclidean_distance_matrix\", \n",
    "which is a matrix whose element (i,j) stores the Eulidean distance between tweet i-th and i-jth.\n",
    "\n",
    "Hint: you should store the Euclidean distance matrix in a numpy array for easier implementation in subsequent tasks\n",
    "'''\n",
    "\n",
    "def compute_euclidean_distance_matrix(termdoc):\n",
    "    # INSERT YOUR CODE HERE\n",
    "    np.array(Euclidean_distance)\n",
    "    j = k1_vocab\n",
    "    i = k1\n",
    "compute_euclidean_distance_matrix(k1_termdoc)"
   ]
  },
  {
   "cell_type": "markdown",
   "metadata": {},
   "source": [
    "**Instruction 2.11**. Now you need to compute the distance matrix for **k1_termdoc** and then visualise this distance matrix.\n",
    "\n",
    "**[Total mark: 10]**"
   ]
  },
  {
   "cell_type": "code",
   "execution_count": null,
   "metadata": {
    "collapsed": true
   },
   "outputs": [],
   "source": [
    "# YOU ARE REQUIRED TO INSERT YOUR CODES IN THIS CELL\n",
    "\n",
    "# compute the distance matrix for k1_termdoc using the function \"compute_euclidean_distance_matrix\"\n",
    "k1_euclidean_distances = # INSERT YOUR CODE HERE\n",
    "\n",
    "# Visualise the distance matrix for this keyword\n",
    "# Hint: using imshow() function\n",
    "# INSERT YOUR CODE HERE\n",
    "\n"
   ]
  },
  {
   "cell_type": "markdown",
   "metadata": {},
   "source": [
    "**Instruction 2.12**. Similar to the example above for the first keyword, your task is to write codes in the cell below to compute the term-by-document matrix and the vocabulary for tweets stored in ***k2_tweets_processed***, print out the first **5** vocabularies and visualise this term-by-document matrix.\n",
    "\n",
    "[**Total mark: 5**]"
   ]
  },
  {
   "cell_type": "code",
   "execution_count": null,
   "metadata": {
    "collapsed": true
   },
   "outputs": [],
   "source": [
    "# YOU ARE REQUIRED TO INSERT YOUR CODES IN THIS CELL\n",
    "'''\n",
    "Write your codes to compute the term-by-document matrix and the vocabulary for tweets stored \n",
    "in k2_tweets_processed\n",
    "'''\n",
    "# INSERT YOUR CODE HERE\n",
    "\n",
    "\n",
    "'''\n",
    "Write your code print out the first 5 vocabularies \n",
    "'''\n",
    "# INSERT YOUR CODE HERE\n",
    "\n",
    "\n",
    "'''\n",
    "Write your code to visualise the term-by-document matrix\n",
    "'''\n",
    "# INSERT YOUR CODE HERE\n"
   ]
  },
  {
   "cell_type": "markdown",
   "metadata": {},
   "source": [
    "***Instruction 2.13***. Next, your task is to write codes in the cell below to calculate the pairwise distance matrix for tweets collected for **second** keyword. Store this distance matrix in the variable named ***k2_euclidean_distances*** and **visualise** this matrix.\n",
    "\n",
    "[**Total mark: 10**]"
   ]
  },
  {
   "cell_type": "code",
   "execution_count": null,
   "metadata": {
    "collapsed": true
   },
   "outputs": [],
   "source": [
    "# YOU ARE REQUIRED TO INSERT YOUR CODES IN THIS CELL\n",
    "\n",
    "# compute the Euclidean distance matrix using compute_euclidean_distance_matrix() function\n",
    "k2_euclidean_distances = # INSERT YOUR CODE HERE\n",
    "       \n",
    "# Visualise the distance matrix for this keyword\n",
    "# INSERT YOUR CODE HERE\n"
   ]
  },
  {
   "cell_type": "markdown",
   "metadata": {},
   "source": [
    "**Instruction 2.14**. Similarly, your task is to write codes in the cell below to compute the term-by-document matrix and the vocabulary for tweets stored in ***k3_tweets_processed***, print out the first **5** vocabularies and visualise this term-by-document matrix.\n",
    "\n",
    "[**Total mark: 5**]"
   ]
  },
  {
   "cell_type": "code",
   "execution_count": null,
   "metadata": {
    "collapsed": true
   },
   "outputs": [],
   "source": [
    "# YOU ARE REQUIRED TO INSERT YOUR CODES IN THIS CELL\n",
    "'''\n",
    "Write your codes to compute the term-by-document matrix and the vocabulary for tweets stored \n",
    "in k3_tweets_processed\n",
    "'''\n",
    "# INSERT YOUR CODE HERE\n",
    "\n",
    "\n",
    "'''\n",
    "Write your code print out the first 5 vocabularies \n",
    "'''\n",
    "# INSERT YOUR CODE HERE\n",
    "\n",
    "\n",
    "'''\n",
    "Write your code to visualise the term-by-document matrix\n",
    "'''\n",
    "# INSERT YOUR CODE HERE\n"
   ]
  },
  {
   "cell_type": "markdown",
   "metadata": {},
   "source": [
    "***Instruction 2.15***. Next, your task is to write codes in the cell below to calculate the pairwise distance matrix for tweets collected for **third** keyword. Store this distance matrix in the variable named ***k3_euclidean_distances*** and visualise this matrix.\n",
    "\n",
    "[**Total mark: 5**]"
   ]
  },
  {
   "cell_type": "code",
   "execution_count": null,
   "metadata": {
    "collapsed": true
   },
   "outputs": [],
   "source": [
    "# YOU ARE REQUIRED TO INSERT YOUR CODES IN THIS CELL\n",
    "\n",
    "# compute the Euclidean distance matrix using compute_euclidean_distance_matrix() function\n",
    "k3_euclidean_distances = # INSERT YOUR CODE HERE\n",
    "\n",
    "# Visualise the distance matrix for this keyword\n",
    "# INSERT YOUR CODE HERE\n"
   ]
  },
  {
   "cell_type": "markdown",
   "metadata": {},
   "source": [
    "### Part 2C: Data Clustering\n",
    "\n",
    "Thus far in this assignment, we have collected tweets for each keyword and analyse them seperately. We have constructed the term-by-document matrix for each collection of tweets seperately. A fundemantal and common task in data science, analytics, machine learning, science and engineering is **clustering**. This is also known as unsupervised learning or exploratory data analysis as we have learned in our classes.\n",
    "\n",
    "This part of this assignment will use the Kmeans algorithm learned in our classes to cluster the **entire** colllection of tweets collected for **all** keywords. To do so, we need to compute the **distance** between **any** two pair of tweets. This requires us to compute a **joint** term-by-document matrix for all tweets.\n",
    "\n",
    "The reason that we **cannot** use the individual term-by-document matrices computed earlier (e.g.,***k1_termdoc, k2_termdoc, k3_termdoc***) for this task is because they have different dictionary sizes. Hence, tweets collected for different keywords have been represented by vectors of different dimension. \n",
    "\n",
    "The following piece of codes will help you to inspect these dimensions."
   ]
  },
  {
   "cell_type": "code",
   "execution_count": null,
   "metadata": {
    "collapsed": true
   },
   "outputs": [],
   "source": [
    "print('Dimension of the term-by-document matrix for keyword \\\"{}\\\":'.format(keywords[0]))\n",
    "print('{} x {}\\n'.format(k1_termdoc.shape[0],k1_termdoc.shape[1]))\n",
    "\n",
    "print('Dimension of the term-by-document matrix for keyword \\\"{}\\\":'.format(keywords[1]))\n",
    "print('{} x {}\\n'.format(k2_termdoc.shape[0],k2_termdoc.shape[1]))\n",
    "\n",
    "print('Dimension of the term-by-document matrix for keyword \\\"{}\\\":'.format(keywords[2]))\n",
    "print('{} x {}\\n'.format(k3_termdoc.shape[0],k3_termdoc.shape[1]))"
   ]
  },
  {
   "cell_type": "markdown",
   "metadata": {},
   "source": [
    "**Note**. First, we need to gather all tweets together into a new variable named **all_tweets_processed** using the piece of codes below."
   ]
  },
  {
   "cell_type": "code",
   "execution_count": null,
   "metadata": {
    "collapsed": true
   },
   "outputs": [],
   "source": [
    "all_tweets_processed = k1_tweets_processed + k2_tweets_processed + k3_tweets_processed"
   ]
  },
  {
   "cell_type": "markdown",
   "metadata": {},
   "source": [
    "**Instruction 2.16**. Your task is to write codes in the cell below to compute the term-by-document matrix and the vocabulary for all tweets stored in ***all_tweets_processed***, print out the first 5 vocabularies and visualise this term-by-document matrix.\n",
    "\n",
    "[**Total marks: 5**]"
   ]
  },
  {
   "cell_type": "code",
   "execution_count": null,
   "metadata": {
    "collapsed": true
   },
   "outputs": [],
   "source": [
    "# YOU ARE REQUIRED TO INSERT YOUR CODES IN THIS CELL\n",
    "'''\n",
    "Write your codes to compute the term-by-document matrix and the vocabulary for all tweets stored \n",
    "in all_tweets_processed\n",
    "'''\n",
    "\n",
    "all_termdoc, all_vocab = # INSERT YOUR CODE HERE\n",
    "\n",
    "'''\n",
    "Write your code print out the first 5 vocabularies \n",
    "'''\n",
    "# INSERT YOUR CODE HERE\n",
    "\n",
    "\n",
    "'''\n",
    "Write your code to visualise the term-by-document matrix\n",
    "'''\n",
    "# INSERT YOUR CODE HERE\n"
   ]
  },
  {
   "cell_type": "markdown",
   "metadata": {},
   "source": [
    "**Instruction 2.17**. Next, your task is to write codes in the cell below to calculate the pairwise distance matrix for all tweets collected. Store this distance matrix in the variable named ***all_euclidean_distances*** and visualise this matrix.\n",
    "\n",
    "[**Total mark: 5**]"
   ]
  },
  {
   "cell_type": "code",
   "execution_count": null,
   "metadata": {
    "collapsed": true
   },
   "outputs": [],
   "source": [
    "# YOU ARE REQUIRED TO INSERT YOUR CODES IN THIS CELL\n",
    "\n",
    "# compute the Euclidean distance matrix using compute_euclidean_distance_matrix() function\n",
    "all_euclidean_distances = # INSERT YOUR CODE HERE\n",
    "        \n",
    "# Visualise the distance matrix for this keyword\n",
    "# INSERT YOUR CODE HERE\n"
   ]
  },
  {
   "cell_type": "markdown",
   "metadata": {},
   "source": [
    "**Note**. Next, we use Kmeans algorithm to cluster all tweets stored in term-by-document matrix ***all_termdoc***. An important requirement for the Kmeans is the specification of the number of clusters which will be specified the variable **n_clusters**.\n",
    "\n",
    "The following piece of codes will initialise a ***kmeans*** object to be used for subsequent clustering task."
   ]
  },
  {
   "cell_type": "code",
   "execution_count": null,
   "metadata": {
    "collapsed": true
   },
   "outputs": [],
   "source": [
    "'''\n",
    "Initialise a kmeans object  from scikit-lean package\n",
    "'''\n",
    "n_clusters = 3\n",
    "kmeans = KMeans(n_clusters=n_clusters, init='k-means++', n_init=5, max_iter=300,\n",
    "                verbose=True, tol=0.00001, random_state=123456)"
   ]
  },
  {
   "cell_type": "markdown",
   "metadata": {},
   "source": [
    "**Instruction 2.18**. Your task is to use the variable ***kmeans*** to perform clustering on the data stored in the variable ***all_termdoc***.\n",
    "\n",
    "[**Total mark: 5**]"
   ]
  },
  {
   "cell_type": "code",
   "execution_count": null,
   "metadata": {
    "collapsed": true
   },
   "outputs": [],
   "source": [
    "# YOU ARE REQUIRED TO INSERT YOUR CODES IN THIS CELL\n",
    "\n",
    "'''\n",
    "Use the variable kmeans to perform clustering on the data stored in the variable all_termdoc\n",
    "Hint: revise the practical session on Kmeans algorithm or check out the documentation from scikit-learn\n",
    "for Kmeans algorithm.\n",
    "'''\n",
    "# INSERT YOUR CODE HERE\n"
   ]
  },
  {
   "cell_type": "markdown",
   "metadata": {},
   "source": [
    "**Instruction 2.19**. Write your codes to print out the cluster centers.\n",
    "\n",
    "[**Total mark: 5**]"
   ]
  },
  {
   "cell_type": "code",
   "execution_count": null,
   "metadata": {
    "collapsed": true
   },
   "outputs": [],
   "source": [
    "# YOU ARE REQUIRED TO INSERT YOUR CODES IN THIS CELL\n",
    "'''\n",
    "Write your codes to print out the cluster centers.\n",
    "'''\n",
    "# INSERT YOUR CODE HERE\n"
   ]
  },
  {
   "cell_type": "markdown",
   "metadata": {},
   "source": [
    "**Instruction 2.20**. Write your codes to print out the first **500** cluster labels assigned to the first 500 tweets.\n",
    "\n",
    "[**Total marks: 5**]"
   ]
  },
  {
   "cell_type": "code",
   "execution_count": null,
   "metadata": {
    "collapsed": true
   },
   "outputs": [],
   "source": [
    "# YOU ARE REQUIRED TO INSERT YOUR CODES IN THIS CELL\n",
    "'''\n",
    "Write your codes to print out the first **500** cluster labels assigned to the first 500 tweets.\n",
    "'''\n",
    "# INSERT YOUR CODE HERE\n"
   ]
  },
  {
   "cell_type": "markdown",
   "metadata": {},
   "source": [
    "**Instruction 2.21**. Next, we would like to obtain the quality of our clustering results. Write your code to obtain the labels of tweets for each keyword and store the labels in three new variables ***k1_labels***, ***k2_labels*** and ***k3_labels***, respectively.\n",
    "\n",
    "**[Total marks: 5]**"
   ]
  },
  {
   "cell_type": "code",
   "execution_count": null,
   "metadata": {
    "collapsed": true
   },
   "outputs": [],
   "source": [
    "# YOU ARE REQUIRED TO INSERT YOUR CODES IN THIS CELL\n",
    "\n",
    "'''\n",
    "Write your code to obtain the labels of tweets for each keyword\n",
    "and store the labels of the first keyword in ***k1_labels***, \n",
    "the labels of the second keyword in ***k2_labels*** and\n",
    "the labels of the third keyword in ***k3_labels***.\n",
    "'''\n",
    "# INSERT YOUR CODE HERE\n"
   ]
  },
  {
   "cell_type": "markdown",
   "metadata": {},
   "source": [
    "**Instruction 2.22**. Then, we examine what is the proprotion of tweets from different keywords (or categories) appear in the **first** cluster. Remember that **0** is the label for the first cluster (**1** for the second and **2** for the third clusters). Your tasks are:\n",
    "\n",
    "1. Write your code to obtain the list of tweet indices of each keyword that are assigned to the first cluster. **(5 marks)**\n",
    "\n",
    "2. Plot a bar chart to visualise the number of tweets of each keyword that are assigned to the first cluster. **(5 marks)**\n",
    "\n",
    "**[Total mark: 10]**"
   ]
  },
  {
   "cell_type": "code",
   "execution_count": null,
   "metadata": {
    "collapsed": true
   },
   "outputs": [],
   "source": [
    "# YOU ARE REQUIRED TO INSERT YOUR CODES IN THIS CELL\n",
    "'''\n",
    "Write your code to obtain the list of tweet indices of each keyword that are assigned to the first cluster.\n",
    "Hint: you might want to use numpy.where function.\n",
    "'''\n",
    "# obtain the list of tweet indices of keyword k1 that are assigned to the first cluster\n",
    "# means that to find tweet indices that have label 0 in k1_labels\n",
    "k1_idx_label0 = # INSERT YOUR CODE HERE\n",
    "\n",
    "# obtain the list of tweet indices of keyword k2 that are assigned to the first cluster\n",
    "# means that to find tweet indices that have label 0 in k2_labels\n",
    "k2_idx_label0 = # INSERT YOUR CODE HERE\n",
    "\n",
    "# obtain the list of tweet indices of keyword k3 that are assigned to the first cluster\n",
    "# means that to find tweet indices that have label 0 in k3_labels\n",
    "k3_idx_label0 = # INSERT YOUR CODE HERE\n"
   ]
  },
  {
   "cell_type": "code",
   "execution_count": null,
   "metadata": {
    "collapsed": true
   },
   "outputs": [],
   "source": [
    "# YOU ARE REQUIRED TO INSERT YOUR CODES IN THIS CELL\n",
    "'''\n",
    "Plot a bar chart to visualise the number of tweets of each keyword that are assigned to the first cluster.\n",
    "Hint: you need to plot a bar chart with three bars, \n",
    "each bar represents the number of tweets of each keyword that are assigned to the first cluster.\n",
    "'''\n",
    "# INSERT YOUR CODE HERE\n"
   ]
  },
  {
   "cell_type": "markdown",
   "metadata": {},
   "source": [
    "**Instruction 2.23**. Similarly, write your codes to compute the the proprotion of tweets from different keywords (or categories) appear in the **second** cluster and plot a bar chart visualise this information.\n",
    "\n",
    "[**Total mark: 8**]"
   ]
  },
  {
   "cell_type": "code",
   "execution_count": null,
   "metadata": {
    "collapsed": true
   },
   "outputs": [],
   "source": [
    "# YOU ARE REQUIRED TO INSERT YOUR CODES IN THIS CELL\n",
    "\n",
    "# obtain the list of tweet indices of keyword k1 that are assigned to the second cluster\n",
    "# means that to find tweet indices that have label 1 in k1_labels\n",
    "k1_idx_label1 = # INSERT YOUR CODE HERE\n",
    "\n",
    "# obtain the list of tweet indices of keyword k2 that are assigned to the second cluster\n",
    "# means that to find tweet indices that have label 1 in k2_labels\n",
    "k2_idx_label1 = # INSERT YOUR CODE HERE\n",
    "\n",
    "# obtain the list of tweet indices of keyword k3 that are assigned to the second cluster\n",
    "# means that to find tweet indices that have label 1 in k3_labels\n",
    "k3_idx_label1 = # INSERT YOUR CODE HERE\n",
    "\n",
    "# Plot a bar chart to visualise the number of tweets of each keyword that are assigned to the second cluster\n",
    "# INSERT YOUR CODE HERE\n"
   ]
  },
  {
   "cell_type": "markdown",
   "metadata": {},
   "source": [
    "**Instruction 2.24**. Similarly, write your codes to compute the the proprotion of tweets from different keywords (or categories) appear in the **third** cluster and plot a bar chart visualise this information.\n",
    "\n",
    "[**Total mark: 8**]"
   ]
  },
  {
   "cell_type": "code",
   "execution_count": null,
   "metadata": {
    "collapsed": true
   },
   "outputs": [],
   "source": [
    "# YOU ARE REQUIRED TO INSERT YOUR CODES IN THIS CELL\n",
    "\n",
    "# obtain the list of tweet indices of keyword k1 that are assigned to the third cluster\n",
    "# means that to find tweet indices that have label 2 in k1_labels\n",
    "k1_idx_label2 = # INSERT YOUR CODE HERE\n",
    "\n",
    "# obtain the list of tweet indices of keyword k2 that are assigned to the third cluster\n",
    "# means that to find tweet indices that have label 2 in k2_labels\n",
    "k2_idx_label2 = # INSERT YOUR CODE HERE\n",
    "\n",
    "# obtain the list of tweet indices of keyword k3 that are assigned to the third cluster\n",
    "# means that to find tweet indices that have label 2 in k3_labels\n",
    "k3_idx_label2 = # INSERT YOUR CODE HERE\n",
    "\n",
    "# Plot a bar chart to visualise the number of tweets of each keyword that are assigned to the third cluster\n",
    "# INSERT YOUR CODE HERE\n"
   ]
  },
  {
   "cell_type": "markdown",
   "metadata": {},
   "source": [
    "### END OF ASSIGNMENT 2 NOTEBOOK\n",
    "\n",
    "----"
   ]
  }
 ],
 "metadata": {
  "kernelspec": {
   "display_name": "Python 3",
   "language": "python",
   "name": "python3"
  },
  "language_info": {
   "codemirror_mode": {
    "name": "ipython",
    "version": 3
   },
   "file_extension": ".py",
   "mimetype": "text/x-python",
   "name": "python",
   "nbconvert_exporter": "python",
   "pygments_lexer": "ipython3",
   "version": "3.6.4"
  }
 },
 "nbformat": 4,
 "nbformat_minor": 1
}
